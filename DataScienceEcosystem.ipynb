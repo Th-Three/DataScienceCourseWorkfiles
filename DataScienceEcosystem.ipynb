{
 "cells": [
  {
   "cell_type": "markdown",
   "id": "afe34a1f-79a0-4920-8399-ce2f3e47389d",
   "metadata": {},
   "source": [
    "# Data Science Tools and Ecosystem"
   ]
  },
  {
   "cell_type": "markdown",
   "id": "e0258853-5578-4543-8ca8-412c92072bdc",
   "metadata": {},
   "source": [
    "# In this notebook, Data Science Tools and Ecosystem are summarized."
   ]
  },
  {
   "cell_type": "markdown",
   "id": "94b92c61-484a-4d12-ae1e-727b12a69e1c",
   "metadata": {
    "tags": []
   },
   "source": [
    "__Objectives:__\n",
    "* List popular languages for Data Science\n",
    "* List commonly used libraries by Data Scientist\n",
    "* Data Science Tools in table"
   ]
  },
  {
   "cell_type": "markdown",
   "id": "a49e9fd7-144f-4b7a-902c-6bd4573cfa29",
   "metadata": {},
   "source": [
    "## Author\n",
    "Thanaphop Threethipthikoon"
   ]
  },
  {
   "cell_type": "markdown",
   "id": "a6addc56-e123-40f9-b42c-12bdc9a08750",
   "metadata": {
    "tags": []
   },
   "source": [
    "Some of the popular languages that Data Scientists use are:\n",
    "1. R\n",
    "2. Python\n",
    "3. SQL"
   ]
  },
  {
   "cell_type": "markdown",
   "id": "b7c51465-70a9-4b52-ab49-0db9fd8bb841",
   "metadata": {},
   "source": [
    "Some of the commonly used libraries used by Data Scientists include:\n",
    "1. Pandas\n",
    "2. NumPy\n",
    "3. Scikit-learn\n"
   ]
  },
  {
   "cell_type": "markdown",
   "id": "35ec0332-e986-4f49-9eb3-b536775051ad",
   "metadata": {},
   "source": [
    "| Data Science Tools |\n",
    "|:--------:|\n",
    "|  Jupyter Notebooks   |\n",
    "|  RStudio   |\n",
    "|  Apache Zeppelin   |"
   ]
  },
  {
   "cell_type": "markdown",
   "id": "9a8c1d57-5b02-4e0d-9693-72342bdfe01a",
   "metadata": {},
   "source": [
    "### Below are a few examples of evaluating arithmetic expressions in Python\n"
   ]
  },
  {
   "cell_type": "code",
   "execution_count": 2,
   "id": "f38475cd-53af-438e-aa9c-9211d242c9c7",
   "metadata": {
    "tags": []
   },
   "outputs": [
    {
     "data": {
      "text/plain": [
       "17"
      ]
     },
     "execution_count": 2,
     "metadata": {},
     "output_type": "execute_result"
    }
   ],
   "source": [
    "#This a simple arithmetic expression to mutiply then add integers\n",
    "(3*4)+5"
   ]
  },
  {
   "cell_type": "code",
   "execution_count": 3,
   "id": "4ab056b0-ab16-42a4-9eef-2aa9256c52f4",
   "metadata": {
    "tags": []
   },
   "outputs": [
    {
     "data": {
      "text/plain": [
       "3.3333333333333335"
      ]
     },
     "execution_count": 3,
     "metadata": {},
     "output_type": "execute_result"
    }
   ],
   "source": [
    "#This will convert 200 minutes to hours by diving by 60\n",
    "200/60"
   ]
  },
  {
   "cell_type": "markdown",
   "id": "e762fe25-24a6-40a2-ba55-1e1aa5e8fe7c",
   "metadata": {},
   "source": []
  }
 ],
 "metadata": {
  "kernelspec": {
   "display_name": "Python",
   "language": "python",
   "name": "conda-env-python-py"
  },
  "language_info": {
   "codemirror_mode": {
    "name": "ipython",
    "version": 3
   },
   "file_extension": ".py",
   "mimetype": "text/x-python",
   "name": "python",
   "nbconvert_exporter": "python",
   "pygments_lexer": "ipython3",
   "version": "3.7.12"
  }
 },
 "nbformat": 4,
 "nbformat_minor": 5
}
